{
 "cells": [
  {
   "cell_type": "markdown",
   "metadata": {},
   "source": [
    "## 准备数据"
   ]
  },
  {
   "cell_type": "code",
   "execution_count": 2,
   "metadata": {},
   "outputs": [],
   "source": [
    "import os\n",
    "import numpy as np\n",
    "import tensorflow as tf\n",
    "from tensorflow import keras\n",
    "from tensorflow.keras import layers, optimizers, datasets\n",
    "\n",
    "os.environ['TF_CPP_MIN_LOG_LEVEL'] = '2'  # or any {'0', '1', '2'}\n",
    "\n",
    "def mnist_dataset():\n",
    "    (x, y), (x_test, y_test) = datasets.mnist.load_data()\n",
    "    #normalize\n",
    "    x = x/255.0\n",
    "    x_test = x_test/255.0\n",
    "    \n",
    "    return (x, y), (x_test, y_test)"
   ]
  },
  {
   "cell_type": "code",
   "execution_count": 3,
   "metadata": {},
   "outputs": [
    {
     "name": "stdout",
     "output_type": "stream",
     "text": [
      "[(1, 'a'), (2, 'b'), (3, 'c'), (4, 'd')]\n"
     ]
    }
   ],
   "source": [
    "print(list(zip([1, 2, 3, 4], ['a', 'b', 'c', 'd'])))"
   ]
  },
  {
   "cell_type": "markdown",
   "metadata": {},
   "source": [
    "## 建立模型"
   ]
  },
  {
   "cell_type": "code",
   "execution_count": 26,
   "metadata": {},
   "outputs": [],
   "source": [
    "class myModel:\n",
    "    def __init__(self):\n",
    "        ####################\n",
    "        '''声明模型对应的参数'''\n",
    "        ####################\n",
    "        self.flatten = tf.keras.layers.Flatten()\n",
    "        self.W1 = tf.Variable(tf.random.normal([784, 512]))\n",
    "        self.b1 = tf.Variable(tf.zeros([512]))\n",
    "        self.W2 = tf.Variable(tf.random.normal([512, 10]))\n",
    "        self.b2 = tf.Variable(tf.zeros([10]))\n",
    "        \n",
    "    def __call__(self, x):\n",
    "        ####################\n",
    "        '''实现模型函数体，返回未归一化的logits'''\n",
    "        ####################\n",
    "        x = self.flatten(x)\n",
    "        x = tf.nn.relu(tf.matmul(x, self.W1) + self.b1)\n",
    "        logits = tf.matmul(x, self.W2) + self.b2\n",
    "        return logits\n",
    "    \n",
    "\n",
    "        \n",
    "model = myModel()\n",
    "\n",
    "optimizer = optimizers.Adam()"
   ]
  },
  {
   "cell_type": "code",
   "execution_count": 11,
   "metadata": {},
   "outputs": [
    {
     "name": "stdout",
     "output_type": "stream",
     "text": [
      "(1,)\n"
     ]
    }
   ],
   "source": [
    "weights = model.dense2.get_weights()[1].shape\n",
    "print(weights)"
   ]
  },
  {
   "cell_type": "markdown",
   "metadata": {},
   "source": [
    "## 计算 loss"
   ]
  },
  {
   "cell_type": "code",
   "execution_count": 22,
   "metadata": {},
   "outputs": [],
   "source": [
    "@tf.function\n",
    "def compute_loss(logits, labels):\n",
    "    return tf.reduce_mean(\n",
    "        tf.nn.sparse_softmax_cross_entropy_with_logits(\n",
    "            logits=logits, labels=labels))\n",
    "\n",
    "@tf.function\n",
    "def compute_accuracy(logits, labels):\n",
    "    predictions = tf.argmax(logits, axis=1)\n",
    "    return tf.reduce_mean(tf.cast(tf.equal(predictions, labels), tf.float32))\n",
    "\n",
    "@tf.function\n",
    "def train_one_step(model, optimizer, x, y):\n",
    "    with tf.GradientTape() as tape:\n",
    "        logits = model(x)\n",
    "        loss = compute_loss(logits, y)\n",
    "\n",
    "    # compute gradient\n",
    "    trainable_vars = [model.W1, model.W2, model.b1, model.b2]\n",
    "    grads = tape.gradient(loss, trainable_vars)\n",
    "    for g, v in zip(grads, trainable_vars):\n",
    "        v.assign_sub(0.01*g)\n",
    "\n",
    "    accuracy = compute_accuracy(logits, y)\n",
    "\n",
    "    # loss and accuracy is scalar tensor\n",
    "    return loss, accuracy\n",
    "\n",
    "@tf.function\n",
    "def test(model, x, y):\n",
    "    logits = model(x)\n",
    "    loss = compute_loss(logits, y)\n",
    "    accuracy = compute_accuracy(logits, y)\n",
    "    return loss, accuracy"
   ]
  },
  {
   "cell_type": "markdown",
   "metadata": {},
   "source": [
    "## 实际训练"
   ]
  },
  {
   "cell_type": "code",
   "execution_count": 27,
   "metadata": {},
   "outputs": [
    {
     "name": "stdout",
     "output_type": "stream",
     "text": [
      "epoch 0 : loss 218.20299 ; accuracy 0.15223333\n",
      "epoch 1 : loss 189.6261 ; accuracy 0.16585\n",
      "epoch 2 : loss 169.08162 ; accuracy 0.17706667\n",
      "epoch 3 : loss 151.71777 ; accuracy 0.18715\n",
      "epoch 4 : loss 136.81003 ; accuracy 0.19616666\n",
      "epoch 5 : loss 124.431786 ; accuracy 0.20563333\n",
      "epoch 6 : loss 114.80313 ; accuracy 0.21363333\n",
      "epoch 7 : loss 107.45887 ; accuracy 0.22305\n",
      "epoch 8 : loss 101.70895 ; accuracy 0.23283334\n",
      "epoch 9 : loss 97.020035 ; accuracy 0.2412\n",
      "epoch 10 : loss 93.08256 ; accuracy 0.24886666\n",
      "epoch 11 : loss 89.70433 ; accuracy 0.25725\n",
      "epoch 12 : loss 86.725136 ; accuracy 0.26651666\n",
      "epoch 13 : loss 84.04399 ; accuracy 0.27518332\n",
      "epoch 14 : loss 81.573814 ; accuracy 0.28386667\n",
      "epoch 15 : loss 79.26124 ; accuracy 0.29203334\n",
      "epoch 16 : loss 77.07722 ; accuracy 0.30071667\n",
      "epoch 17 : loss 75.00818 ; accuracy 0.30898333\n",
      "epoch 18 : loss 73.04372 ; accuracy 0.3174\n",
      "epoch 19 : loss 71.175186 ; accuracy 0.32568333\n",
      "epoch 20 : loss 69.39824 ; accuracy 0.33463332\n",
      "epoch 21 : loss 67.71221 ; accuracy 0.34308332\n",
      "epoch 22 : loss 66.10917 ; accuracy 0.3513\n",
      "epoch 23 : loss 64.58285 ; accuracy 0.3592\n",
      "epoch 24 : loss 63.129192 ; accuracy 0.36748335\n",
      "epoch 25 : loss 61.744625 ; accuracy 0.37543333\n",
      "epoch 26 : loss 60.426075 ; accuracy 0.38335\n",
      "epoch 27 : loss 59.167175 ; accuracy 0.3904\n",
      "epoch 28 : loss 57.963474 ; accuracy 0.39776668\n",
      "epoch 29 : loss 56.81367 ; accuracy 0.40506667\n",
      "epoch 30 : loss 55.714417 ; accuracy 0.41146666\n",
      "epoch 31 : loss 54.661636 ; accuracy 0.41878334\n",
      "epoch 32 : loss 53.654526 ; accuracy 0.42535\n",
      "epoch 33 : loss 52.68814 ; accuracy 0.43138334\n",
      "epoch 34 : loss 51.758568 ; accuracy 0.43725\n",
      "epoch 35 : loss 50.865 ; accuracy 0.44255\n",
      "epoch 36 : loss 50.006565 ; accuracy 0.44846666\n",
      "epoch 37 : loss 49.181213 ; accuracy 0.45396668\n",
      "epoch 38 : loss 48.386124 ; accuracy 0.4592\n",
      "epoch 39 : loss 47.619896 ; accuracy 0.46436667\n",
      "epoch 40 : loss 46.882393 ; accuracy 0.46998334\n",
      "epoch 41 : loss 46.17229 ; accuracy 0.47491667\n",
      "epoch 42 : loss 45.486958 ; accuracy 0.47938332\n",
      "epoch 43 : loss 44.824062 ; accuracy 0.48425\n",
      "epoch 44 : loss 44.18335 ; accuracy 0.48853335\n",
      "epoch 45 : loss 43.56399 ; accuracy 0.49313334\n",
      "epoch 46 : loss 42.9649 ; accuracy 0.49743333\n",
      "epoch 47 : loss 42.384693 ; accuracy 0.50163335\n",
      "epoch 48 : loss 41.822575 ; accuracy 0.50596666\n",
      "epoch 49 : loss 41.27804 ; accuracy 0.50986665\n",
      "test loss 39.543186 ; accuracy 0.5284\n"
     ]
    }
   ],
   "source": [
    "train_data, test_data = mnist_dataset()\n",
    "for epoch in range(50):\n",
    "    loss, accuracy = train_one_step(model, optimizer, \n",
    "                                    tf.constant(train_data[0], dtype=tf.float32), \n",
    "                                    tf.constant(train_data[1], dtype=tf.int64))\n",
    "    print('epoch', epoch, ': loss', loss.numpy(), '; accuracy', accuracy.numpy())\n",
    "loss, accuracy = test(model, \n",
    "                      tf.constant(test_data[0], dtype=tf.float32), \n",
    "                      tf.constant(test_data[1], dtype=tf.int64))\n",
    "\n",
    "print('test loss', loss.numpy(), '; accuracy', accuracy.numpy())"
   ]
  }
 ],
 "metadata": {
  "kernelspec": {
   "display_name": "Python 3",
   "language": "python",
   "name": "python3"
  },
  "language_info": {
   "codemirror_mode": {
    "name": "ipython",
    "version": 3
   },
   "file_extension": ".py",
   "mimetype": "text/x-python",
   "name": "python",
   "nbconvert_exporter": "python",
   "pygments_lexer": "ipython3",
   "version": "3.11.5"
  }
 },
 "nbformat": 4,
 "nbformat_minor": 2
}
