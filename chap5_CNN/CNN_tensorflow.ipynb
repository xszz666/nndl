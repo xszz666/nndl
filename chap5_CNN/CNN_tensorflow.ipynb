{
 "cells": [
  {
   "cell_type": "markdown",
   "metadata": {},
   "source": [
    "原代码需要TensorFlow1.x才能运行，但我的电脑环境是2.x，所以我对代码进行了改动，但保持了网络结构不变"
   ]
  },
  {
   "cell_type": "code",
   "execution_count": 3,
   "metadata": {
    "collapsed": true
   },
   "outputs": [
    {
     "name": "stdout",
     "output_type": "stream",
     "text": [
      "Epoch 1/5\n",
      "540/540 [==============================] - 11s 20ms/step - loss: 0.6087 - accuracy: 0.8206 - val_loss: 0.1508 - val_accuracy: 0.9590\n",
      "Epoch 2/5\n",
      "540/540 [==============================] - 11s 20ms/step - loss: 0.1839 - accuracy: 0.9451 - val_loss: 0.0916 - val_accuracy: 0.9752\n",
      "Epoch 3/5\n",
      "540/540 [==============================] - 11s 20ms/step - loss: 0.1242 - accuracy: 0.9626 - val_loss: 0.0713 - val_accuracy: 0.9790\n",
      "Epoch 4/5\n",
      "540/540 [==============================] - 11s 20ms/step - loss: 0.0989 - accuracy: 0.9706 - val_loss: 0.0599 - val_accuracy: 0.9840\n",
      "Epoch 5/5\n",
      "540/540 [==============================] - 11s 20ms/step - loss: 0.0799 - accuracy: 0.9751 - val_loss: 0.0536 - val_accuracy: 0.9853\n",
      "313/313 [==============================] - 1s 3ms/step - loss: 0.0511 - accuracy: 0.9837\n",
      "Test accuracy: 0.9836999773979187\n"
     ]
    }
   ],
   "source": [
    "import tensorflow as tf\n",
    "from tensorflow.keras.datasets import mnist\n",
    "from tensorflow.keras.utils import to_categorical\n",
    "\n",
    "(x_train, y_train), (x_test, y_test) = mnist.load_data()\n",
    "x_train = x_train.reshape(-1, 28, 28, 1) / 255.0\n",
    "x_test = x_test.reshape(-1, 28, 28, 1) / 255.0\n",
    "y_train = to_categorical(y_train)\n",
    "y_test = to_categorical(y_test)\n",
    "\n",
    "keep_prob_rate = 0.7\n",
    "max_epochs = 5\n",
    "\n",
    "def build_model():\n",
    "    model = tf.keras.models.Sequential([\n",
    "        tf.keras.layers.Conv2D(32, (7, 7), activation='relu', input_shape=(28, 28, 1)),\n",
    "        tf.keras.layers.MaxPooling2D((2, 2), padding='same'),\n",
    "        tf.keras.layers.Conv2D(64, (5, 5), activation='relu'),\n",
    "        tf.keras.layers.MaxPooling2D((2, 2), padding='same'),\n",
    "        tf.keras.layers.Flatten(),\n",
    "        tf.keras.layers.Dense(1024, activation='relu'),\n",
    "        tf.keras.layers.Dropout(keep_prob_rate),\n",
    "        tf.keras.layers.Dense(10, activation='softmax')\n",
    "    ])\n",
    "\n",
    "    model.compile(optimizer=tf.keras.optimizers.Adam(learning_rate=1e-4),\n",
    "                  loss=tf.keras.losses.CategoricalCrossentropy(),\n",
    "                  metrics=['accuracy'])\n",
    "    return model\n",
    "\n",
    "model = build_model()\n",
    "\n",
    "history = model.fit(x_train, y_train, epochs=max_epochs, validation_split=0.1, batch_size=100)\n",
    "\n",
    "# 计算测试集上的准确率\n",
    "test_accuracy = model.evaluate(x_test, y_test)[1]\n",
    "print(\"Test accuracy:\", test_accuracy)"
   ]
  }
 ],
 "metadata": {
  "anaconda-cloud": {},
  "kernelspec": {
   "display_name": "base",
   "language": "python",
   "name": "python3"
  },
  "language_info": {
   "codemirror_mode": {
    "name": "ipython",
    "version": 3
   },
   "file_extension": ".py",
   "mimetype": "text/x-python",
   "name": "python",
   "nbconvert_exporter": "python",
   "pygments_lexer": "ipython3",
   "version": "3.11.5"
  }
 },
 "nbformat": 4,
 "nbformat_minor": 1
}
